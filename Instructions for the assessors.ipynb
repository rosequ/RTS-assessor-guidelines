{
 "cells": [
  {
   "cell_type": "markdown",
   "metadata": {},
   "source": [
    "# RTS17: Assessor Guidelines\n",
    "\n",
    "### Requirements and initial setup\n",
    "1. You should have an active Twitter account. You can use an existing account or create a dummy account. Click on this [link](https://twitter.com/signup) to sign up for a new account.\n",
    "2. Share your following details with us: name, e-mail address, and Twitter handle.\n",
    "3. Install the Twitter app on your mobile device. Although we strongly recommend using your phones for this study, it is fine to use your personal computer for assessment purposes.\n",
    "4. Follow [@rts_coordinator](https://twitter.com/rts_coordinator/followers) on Twitter.\n",
    "\n",
    "\n",
    "### Before the evaluation\n",
    "1. Please go through the list of initial interest profiles or topics listed [here](http://trecrts.github.io/TREC2017-RTS-topics1.json). To cover as many topics as possible, we will not allow more than 3 assessors per topic.\n",
    "2. Depending on your interests, you can sign up for as many topics as you want to assess. \n",
    "3. The topic assignment, therefore, will be on first come first serve basis.\n",
    "4. We also urge you to come up with your own topics so that you get to assess the tweets that are more interesting to you. You can send us a list of topics that you're interested by writing them in [this](http://trecrts.github.io/TREC2017-RTS-topics1.json) format.\n",
    "\n",
    "### When do you assess?\n",
    "The evaluation will occur from July 25 00:00:00 UTC to August 3 23:59:59 UTC (and could be extended\n",
    "if needed). During this time, all participating systems will “listen” to the Twitter sample stream using the Twitter streaming API and push the tweets to you in real time based on the interest profiles (topics) you have signed up for. Please note that each participating team will not push more than 10 tweets per topic. So, if you want to assess more tweets, sign up for more topics!\n",
    "\n",
    "### Assessing tweets \n",
    "Once you have signed up for the topics of your interest and have followed @rts_coordinator, you should be able to receive the push notifications on your app.\n",
    "\n",
    "You can either choose to look at the notification right at the time you receive it, in which case it looks like figure 1 or you can view the notifications under your direct messages as shown in figure 2. On either of the actions, you should be able to see an assessing interface as shown in figure 3. \n",
    "\n",
    "\n",
    "|![](images/push-notification-direct.png)|![](images/twitter-message.png)|![](images/assessingInterface.png)|\n",
    "|:---:|:---:|:---:|\n",
    "|__Figure 1: __Push notification|__Figure 2:__ Push notifications under direct messages|__Figure 3:__ Assessing interface|\n",
    "\n",
    "The topic that you signed up for and the tweet corresponding to that topic will appear on the interface as shown in figure 3. To view the entire content of the tweet, simply click on the tweet. Based on the content, you will assess the tweet on one of the three levels by clicking the <span style=\"color:green\">Judge</span> link:\n",
    "\n",
    "- __Relevant:__ if the tweet is relevant to your topic of interest, mark the tweet as relevant by clicking on the <span style=\"color:green\">Relevant</span> box as shown in figure 3.\n",
    "- __Not relevant:__ if the tweet is not relevant to the topic you signed up for, mark the tweet as not relevant by clicking on the <span style=\"color:green\">Not Relevant</span> box.\n",
    "- __Duplicate:__ if a same/similar tweet has been pushed to you before, consider the tweet as duplicate by clicking on the <span style=\"color:green\">Redundant/Duplicate</span> box.\n",
    "\n",
    "Once you mark the tweet as relevant or non-relevant, you should be able to a confirmation screen as shown in figure 5 and 6. \n",
    "\n",
    "|![](images/tweet.png)|![](images/relevance.png)|![](images/relevant.png)|\n",
    "|:---:|:---:|:---:|\n",
    "|__Figure 4: __Tweet content|__Figure 5:__ Choose the appropriate level of relevance|__Figure 6:__ Relevant tweet|\n",
    "\n",
    "Once you are done assesssing this particular tweet, press the \"back\" button or the \"X\" button at the top left corner of your screen.\n",
    "\n",
    "__Nota Bene:__ You can always change your assessment and your most recent assessment will be recorded.\n"
   ]
  },
  {
   "cell_type": "markdown",
   "metadata": {
    "collapsed": true
   },
   "source": [
    "\n",
    "### Too many notifications?\n",
    "If at any point, you think you are deluged by an inordinate number of notifications, you can turn them off by following steps 1 to 3 illustrated as below:\n",
    "\n",
    "|![](images/turnoff1.png)|![](images/turnoff2.png)|![](images/turnoff3.png)|\n",
    "|:---:|:---:|:---:|\n",
    "|__Step 1: __Click on your handle|__Step 2:__ Select \"Mobile notifications\" |__Step 3:__ Check/uncheck \"Direct messages\"|\n",
    "\n",
    " Check [this](https://support.twitter.com/articles/20169887) for more details.\n",
    " \n",
    " \n",
    "### Remuneration\n",
    "In appreciation of your time, you will receive a base amount of 5 CAD and will earn 1 CAD for every 20 tweets assessed."
   ]
  },
  {
   "cell_type": "markdown",
   "metadata": {},
   "source": [
    "### Contact us\n",
    "Should you have any questions, or need help with anything, feel free to contact us:\n",
    "- Royal Sequiera: rdsequie@uaterloo.ca\n",
    "- Salman Mohammed: salman.mohammed@uwaterloo.ca"
   ]
  }
 ],
 "metadata": {
  "kernelspec": {
   "display_name": "Python 3",
   "language": "python",
   "name": "python3"
  },
  "language_info": {
   "codemirror_mode": {
    "name": "ipython",
    "version": 3
   },
   "file_extension": ".py",
   "mimetype": "text/x-python",
   "name": "python",
   "nbconvert_exporter": "python",
   "pygments_lexer": "ipython3",
   "version": "3.6.0"
  }
 },
 "nbformat": 4,
 "nbformat_minor": 2
}
